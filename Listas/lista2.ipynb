{
 "cells": [
  {
   "cell_type": "markdown",
   "id": "0176da61",
   "metadata": {},
   "source": [
    "# Questão 2\n",
    "\n",
    "Para verificar se $\\tilde{y}$ pertence a $\\text{proj}_y(P)$ note que se $u$ é um vetor que projeta, então \n",
    "$$\n",
    "\\begin{align*}\n",
    "u^T(Ax+By) &\\ge u^Tb \\\\ u^TBy -u^Tb &\\ge0,\\ \\forall\\ y.\n",
    "\\end{align*}\n",
    "$$\n",
    "\n",
    "Basta então encontrar $\\min_u u^T(B\\tilde{y}-b)$ sujeito às restrições de projeção $A^Tu=0$ e $u\\ge0$. Se o mínimo for maior ou igual a zero, então é claro que não existe $u$ tal que $(u^TBy -u^Tb)<0$, logo $\\tilde{y}$ pertence à projeção. Isso é confirmado pelo seguinte script, que resolve a PL\n",
    "\n",
    "$$\n",
    "\\begin{align*}\n",
    "\\min (B\\tilde{y} - &b)^Tu\\\\\n",
    "\\text{s.t.}\\ \\; A^Tu&=0\\\\\n",
    "u&\\ge0\n",
    "\\end{align*}\n",
    "$$"
   ]
  },
  {
   "cell_type": "code",
   "execution_count": 1,
   "id": "5b0f4c9b",
   "metadata": {},
   "outputs": [
    {
     "name": "stdout",
     "output_type": "stream",
     "text": [
      "u: [-0. -0.  0.  0.]\n",
      "Custo ótimo: 0.0\n"
     ]
    }
   ],
   "source": [
    "import numpy as np\n",
    "from scipy.optimize import linprog\n",
    "\n",
    "A = np.array([\n",
    "    [1, -2],\n",
    "    [-2, 3],\n",
    "    [4, -4],\n",
    "    [1, 2],\n",
    "])\n",
    "\n",
    "b = np.array([6,5,10,0]).reshape(-1, 1)\n",
    "B = np.array([\n",
    "    [1, 6],\n",
    "    [4, 1],\n",
    "    [1, 1],\n",
    "    [0, 0],\n",
    "])\n",
    "\n",
    "y_tilde = np.array([1, 3]).reshape(-1, 1)\n",
    "\n",
    "res = linprog(c=(B @ y_tilde - b).ravel(), A_eq=A.T, b_eq=np.zeros((2,1)), bounds=(0, None))\n",
    "print('u:', res.x)\n",
    "print('Custo ótimo:', res.fun)"
   ]
  }
 ],
 "metadata": {
  "kernelspec": {
   "display_name": "Python 3",
   "language": "python",
   "name": "python3"
  },
  "language_info": {
   "codemirror_mode": {
    "name": "ipython",
    "version": 3
   },
   "file_extension": ".py",
   "mimetype": "text/x-python",
   "name": "python",
   "nbconvert_exporter": "python",
   "pygments_lexer": "ipython3",
   "version": "3.13.1"
  }
 },
 "nbformat": 4,
 "nbformat_minor": 5
}
