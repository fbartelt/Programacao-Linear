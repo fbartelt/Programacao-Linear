{
 "cells": [
  {
   "cell_type": "markdown",
   "metadata": {},
   "source": [
    "# Questão 6\n",
    "\n",
    "Resolve $A^k x = b$ através de um método recursivo:\n",
    "\n",
    "$$\n",
    "\\begin{align*}\n",
    "A^kx = A\\underbrace{(A^{k-1}x)}_{y_{1}}&=b\\\\\n",
    "A\\underbrace{(A^{k-2}x)}_{y_{2}}&=y_1\\\\\n",
    "&\\vdots\\\\\n",
    "A\\Bigl(\\underbrace{A\\dots A\\bigl(\\underbrace{A(\\underbrace{Ax}_{y_{k-1}})}_{y_{k-2}}\\bigr)}_{y_1}\\Bigr)&=b\n",
    "\\end{align*}\n",
    "$$\n",
    "\n",
    "Isso é, resolve-se $Ay_1=b$, e então $Ay_2=y_1 \\dots$ até que se resolva $Ax=y_{k-1}$. As soluções são obtidas por meio de decomposição PALU."
   ]
  },
  {
   "cell_type": "code",
   "execution_count": 1,
   "metadata": {},
   "outputs": [
    {
     "name": "stdout",
     "output_type": "stream",
     "text": [
      "A solução obtida para A^10 x = b foi: [-0.00070265 -0.00208541  0.01872547 -0.02150862  0.000916    0.01347027]^T\n"
     ]
    }
   ],
   "source": [
    "import numpy as np\n",
    "from scipy.linalg import lu\n",
    "\n",
    "A = np.array([\n",
    "    [0., 8., 8., 6., 4., 3.],\n",
    "    [5., 2., 4., 6., 9., 5.],\n",
    "    [3., 1., 4., 7., 9., 3.],\n",
    "    [4., 7., 9., 9., 3., 5.],\n",
    "    [3., 2., 1., 5., 4., 5.],\n",
    "    [1., 7., 2., 3., 7., 1.]\n",
    "])\n",
    "\n",
    "b = np.array([391., 830., 588., 483., 223., 840.]).reshape(-1, 1)\n",
    "\n",
    "k = 10\n",
    "\n",
    "def solve_power_lineq(A, b, k):\n",
    "    \"\"\"Solve A^k x = b using a recursive PA=LU decomposition:\n",
    "    A (A^{k-1}) x = b\n",
    "    \"\"\"\n",
    "    A_ = A.copy()\n",
    "    P_inv, L, U = lu(A_) # A = P_inv @ L @ U\n",
    "    P = P_inv.T\n",
    "    b_ = b.copy()\n",
    "\n",
    "    for _ in range(k):\n",
    "        y = np.linalg.solve(L, P @ b_)\n",
    "        x = np.linalg.solve(U, y)\n",
    "        b_ = x\n",
    "    return x\n",
    "\n",
    "x = solve_power_lineq(A, b, k)\n",
    "print(f'A solução obtida para A^10 x = b foi: {x.ravel()}^T')\n"
   ]
  },
  {
   "cell_type": "markdown",
   "metadata": {},
   "source": [
    "Solução obtida utilizando-se $x = (A^{10})^{-1}b$ para comparação"
   ]
  },
  {
   "cell_type": "code",
   "execution_count": 2,
   "metadata": {},
   "outputs": [
    {
     "name": "stdout",
     "output_type": "stream",
     "text": [
      "Solução explícita [-0.00070265 -0.00208541  0.01872547 -0.02150862  0.000916    0.01347027]^T\n"
     ]
    }
   ],
   "source": [
    "exp_sol = np.linalg.inv(np.linalg.matrix_power(A, k)) @ b\n",
    "print(f\"Solução explícita {exp_sol.ravel()}^T\")"
   ]
  },
  {
   "cell_type": "markdown",
   "metadata": {},
   "source": [
    "# Questão 7\n",
    "\n",
    "Seja $A^{-1}b=x$, o que implica $b=Ax$. Tem-se então $u=d^Tx$, que não possui contas implícitas de inversa de matriz:\n",
    "\n",
    "Computa-se $PA=LU$ e resolve-se $LUx=Pb\\rightarrow Ly=Pb,\\quad Ux=y$. \n",
    "\n",
    "Finalmente $u=d^TA^{-1}b=d^Tx$."
   ]
  },
  {
   "cell_type": "code",
   "execution_count": 3,
   "metadata": {},
   "outputs": [
    {
     "name": "stdout",
     "output_type": "stream",
     "text": [
      "A solução obtida para Ax = b foi:\n",
      "x=[120.95694496  56.65531012  19.19568202 -56.26169974  72.75215275\n",
      " -56.41544989]^T\n",
      "O produto interno u = <d, x> é: -186.80331960564075\n"
     ]
    }
   ],
   "source": [
    "import numpy as np\n",
    "from scipy.linalg import lu\n",
    "\n",
    "A = np.array([\n",
    "    [0., 8., 8., 6., 4., 3.],\n",
    "    [5., 2., 4., 6., 9., 5.],\n",
    "    [3., 1., 4., 7., 9., 3.],\n",
    "    [4., 7., 9., 9., 3., 5.],\n",
    "    [3., 2., 1., 5., 4., 5.],\n",
    "    [1., 7., 2., 3., 7., 1.]\n",
    "])\n",
    "\n",
    "b = np.array([391., 830., 588., 483., 223., 840.]).reshape(-1, 1)\n",
    "\n",
    "P_inv, L, U = lu(A) # A = P_inv @ L @ U\n",
    "P = P_inv.T\n",
    "y = np.linalg.solve(L, P @ b)\n",
    "x = np.linalg.solve(U, y)\n",
    "print(f'A solução obtida para Ax = b foi:\\nx={x.ravel()}^T')\n",
    "\n",
    "d = np.array([1., 3., 9., 8., 5., 10.]).reshape(-1, 1)\n",
    "u = d.T @ x\n",
    "print(f'O produto interno u = <d, x> é: {u[0,0]}')"
   ]
  },
  {
   "cell_type": "markdown",
   "metadata": {},
   "source": [
    "Comparando o valor obtido fazendo-se explicitamente $d^TA^{-1}b$:"
   ]
  },
  {
   "cell_type": "code",
   "execution_count": 4,
   "metadata": {},
   "outputs": [
    {
     "name": "stdout",
     "output_type": "stream",
     "text": [
      "-186.80331960564087\n"
     ]
    }
   ],
   "source": [
    "print((d.T @ (np.linalg.inv(A) @ b))[0,0])"
   ]
  }
 ],
 "metadata": {
  "kernelspec": {
   "display_name": "Python 3",
   "language": "python",
   "name": "python3"
  },
  "language_info": {
   "codemirror_mode": {
    "name": "ipython",
    "version": 3
   },
   "file_extension": ".py",
   "mimetype": "text/x-python",
   "name": "python",
   "nbconvert_exporter": "python",
   "pygments_lexer": "ipython3",
   "version": "3.13.1"
  }
 },
 "nbformat": 4,
 "nbformat_minor": 2
}
